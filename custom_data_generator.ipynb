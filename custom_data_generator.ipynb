{
 "cells": [
  {
   "cell_type": "code",
   "execution_count": 1,
   "metadata": {},
   "outputs": [],
   "source": [
    "import os\n",
    "import numpy as np\n",
    "import matplotlib.pyplot as plt\n",
    "import random"
   ]
  },
  {
   "cell_type": "code",
   "execution_count": 2,
   "metadata": {},
   "outputs": [],
   "source": [
    "def image_loader(img_dir, img_list):\n",
    "    images = []\n",
    "    for i, img_name in enumerate(img_list):\n",
    "        if img_name.split('.')[1] == '.npy':\n",
    "            image = np.load(img_dir+img_list)\n",
    "            images.append(image)\n",
    "\n",
    "    images = np.array(images)\n",
    "\n",
    "    return images   "
   ]
  },
  {
   "cell_type": "code",
   "execution_count": 3,
   "metadata": {},
   "outputs": [],
   "source": [
    "def loader(img_dir, img_list, mask_dir, mask_list, batch_size):\n",
    "    n = len(img_list)\n",
    "\n",
    "    while True:\n",
    "        batch_start = 0\n",
    "        batch_end = batch_size\n",
    "\n",
    "        while batch_start < n:\n",
    "            limit = min(batch_end, n)\n",
    "\n",
    "            x = image_loader(img_dir, img_list[batch_start:limit])\n",
    "            y = image_loader(mask_dir, mask_list[batch_start:limit])\n",
    "\n",
    "            yield (x,y)\n",
    "\n",
    "            batch_start += batch_size\n",
    "            batch_end += batch_size"
   ]
  },
  {
   "cell_type": "code",
   "execution_count": null,
   "metadata": {},
   "outputs": [],
   "source": []
  }
 ],
 "metadata": {
  "kernelspec": {
   "display_name": "venv",
   "language": "python",
   "name": "python3"
  },
  "language_info": {
   "codemirror_mode": {
    "name": "ipython",
    "version": 3
   },
   "file_extension": ".py",
   "mimetype": "text/x-python",
   "name": "python",
   "nbconvert_exporter": "python",
   "pygments_lexer": "ipython3",
   "version": "3.8.10"
  },
  "orig_nbformat": 4,
  "vscode": {
   "interpreter": {
    "hash": "9f01f932d1855ce2882254d0f528ba22be5217a1be4fffc0816f022c07186170"
   }
  }
 },
 "nbformat": 4,
 "nbformat_minor": 2
}
